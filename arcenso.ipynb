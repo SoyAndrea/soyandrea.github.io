{
  "cells": [
    {
      "cell_type": "raw",
      "metadata": {},
      "source": [
        "---\n",
        "title: \"arcenso\"\n",
        "listing:\n",
        "  contents: arcenso\n",
        "  sort: \"date desc\"\n",
        "  type: default\n",
        "  image-align: right\n",
        "  max-description-length: 175\n",
        "  date-format: medium\n",
        "  categories: true\n",
        "  sort-ui: false\n",
        "  filter-ui: false\n",
        "page-layout: full\n",
        "title-block-banner: false\n",
        "---"
      ],
      "id": "198a2c6d"
    },
    {
      "cell_type": "markdown",
      "metadata": {},
      "source": [
        "![Descripción de la imagen](arcensohex.png){.rounded img-right width=300}\n",
        "\n",
        "```{listing}\n",
        "contents: arcenso\n",
        "sort: \"date desc\"\n",
        "type: default\n",
        "max-description-length: 175"
      ],
      "id": "b5a8f220"
    }
  ],
  "metadata": {
    "kernelspec": {
      "name": "python3",
      "language": "python",
      "display_name": "Python 3 (ipykernel)"
    }
  },
  "nbformat": 4,
  "nbformat_minor": 5
}